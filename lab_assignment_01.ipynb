{
 "cells": [
  {
   "cell_type": "markdown",
   "metadata": {
    "colab_type": "text",
    "id": "DymRJbxDBCnf"
   },
   "source": [
    "# **The first Lab-assignment (07/15/2022 11:59'AM' to 7/19/2022 11:59PM, 50 points in total)**"
   ]
  },
  {
   "cell_type": "markdown",
   "metadata": {
    "colab_type": "text",
    "id": "jJDe71iLB616"
   },
   "source": [
    "(1) Write a Python program to count the number of characters in a string. (6 points)\n",
    "\n",
    "Sample String : 'google.com', \n",
    "\n",
    "Expected Result : {'o': 3, 'g': 2, '.': 1, 'e': 1, 'l': 1, 'm': 1, 'c': 1}"
   ]
  },
  {
   "cell_type": "code",
   "execution_count": 42,
   "metadata": {
    "colab": {},
    "colab_type": "code",
    "id": "MtKskTzbCLaU"
   },
   "outputs": [
    {
     "name": "stdout",
     "output_type": "stream",
     "text": [
      "{'g': 2, 'o': 3, 'l': 1, 'e': 1, '.': 1, 'c': 1, 'm': 1}\n"
     ]
    }
   ],
   "source": [
    "# write your answer here\n",
    "Sample_String = 'google.com'\n",
    "Sample_dict = {}\n",
    "\n",
    "def No_of_Chars_in_String(Input_string):\n",
    "    for n in Input_string:\n",
    "        keys = Sample_dict.keys()\n",
    "        if n in keys:\n",
    "            Sample_dict[n] += 1\n",
    "        else:\n",
    "            Sample_dict[n] = 1\n",
    "    return Sample_dict\n",
    "\n",
    "Result = No_of_Chars_in_String(Sample_String)\n",
    "print(Result)"
   ]
  },
  {
   "cell_type": "markdown",
   "metadata": {
    "colab_type": "text",
    "id": "55W9AMdXCSpV"
   },
   "source": [
    "(2) Write a Python program to sum all the items in a list. (6 points)"
   ]
  },
  {
   "cell_type": "code",
   "execution_count": 33,
   "metadata": {
    "colab": {},
    "colab_type": "code",
    "id": "I57NXsauCec2"
   },
   "outputs": [
    {
     "name": "stdout",
     "output_type": "stream",
     "text": [
      "Total Sum of all items in list: 28\n"
     ]
    }
   ],
   "source": [
    "# write your answer here\n",
    "Sample_List = [1,2,3,4,5,6,7]\n",
    "Total_Sum=0\n",
    "\n",
    "for i in range(0,len(Sample_List)):\n",
    "    Total_Sum += Sample_List[i]\n",
    "print(\"Total Sum of all items in list:\",Total_Sum)"
   ]
  },
  {
   "cell_type": "markdown",
   "metadata": {
    "colab_type": "text",
    "id": "4ulBZ6yhCi9F"
   },
   "source": [
    "(3) Write a Python program to get a string from a given string where all occurrences of its first char have been changed to '\\$', except the first char itself. (6 points)\n",
    "\n",
    "Sample String : 'restart', \n",
    "\n",
    "Expected Result : 'resta\\$t'"
   ]
  },
  {
   "cell_type": "code",
   "execution_count": 126,
   "metadata": {
    "colab": {},
    "colab_type": "code",
    "id": "Fj0XhwbBCw2o"
   },
   "outputs": [
    {
     "name": "stdout",
     "output_type": "stream",
     "text": [
      "resta$t\n"
     ]
    }
   ],
   "source": [
    "# write your answer here\n",
    "Sample_String = 'restart'\n",
    "_1st_char = Sample_String[0]    \n",
    "\n",
    "def _2ndChar_Change(Input_string):\n",
    "    Input_string = Input_string.replace(_1st_char, '$')\n",
    "    Input_string = _1st_char + Input_string[1:]\n",
    "\n",
    "    return Input_string\n",
    "\n",
    "Result = _2ndChar_Change(Sample_String)\n",
    "print(Result)"
   ]
  },
  {
   "cell_type": "markdown",
   "metadata": {
    "colab_type": "text",
    "id": "_bIP7s1MCzue"
   },
   "source": [
    "(4) Write a program with python which could accept two parameter a and b to calculate and output the result of S, where \n",
    "\n",
    "$\\ S=3.14*(1+a/b)^3$ (6 points)\n",
    "\n"
   ]
  },
  {
   "cell_type": "code",
   "execution_count": 46,
   "metadata": {
    "colab": {},
    "colab_type": "code",
    "id": "w79QilHXD3Mg"
   },
   "outputs": [
    {
     "name": "stdout",
     "output_type": "stream",
     "text": [
      "19.3487962962963\n"
     ]
    }
   ],
   "source": [
    "# write your answer here\n",
    "Input_a = 5\n",
    "Input_b = 6\n",
    "\n",
    "def Funct_S(a,b):\n",
    "    S1 = 3.14*(1+(a/b))**3\n",
    "    return S1\n",
    "S1_1 = Funct_S(Input_a,Input_b)\n",
    "print(S1_1)"
   ]
  },
  {
   "cell_type": "markdown",
   "metadata": {
    "colab_type": "text",
    "id": "xCa2bK9aD4Q3"
   },
   "source": [
    "(5) Write a Python program to concatenate following dictionaries to create a new one. (6 points)\n",
    "\n",
    "Sample Dictionary : dic1={1:10, 2:20}, dic2={3:30, 4:40}, dic3={5:50,6:60}, \n",
    "\n",
    "Expected Result : {1: 10, 2: 20, 3: 30, 4: 40, 5: 50, 6: 60}\n"
   ]
  },
  {
   "cell_type": "code",
   "execution_count": 47,
   "metadata": {
    "colab": {},
    "colab_type": "code",
    "id": "_z4aLqAbEET1"
   },
   "outputs": [
    {
     "name": "stdout",
     "output_type": "stream",
     "text": [
      "After concatinating all dictionaries: {1: 10, 2: 20, 3: 30, 4: 40, 5: 50, 6: 60}\n"
     ]
    }
   ],
   "source": [
    "# write your answer here\n",
    "dic1={1:10, 2:20}\n",
    "dic2={3:30, 4:40} \n",
    "dic3={5:50,6:60}\n",
    "\n",
    "dict_all = {}\n",
    "for d in [dic1,dic2,dic3]:\n",
    "    dict_all.update(d)\n",
    "print(\"After concatinating all dictionaries:\",dict_all)"
   ]
  },
  {
   "cell_type": "markdown",
   "metadata": {
    "colab_type": "text",
    "id": "0v48Vqa7FrQh"
   },
   "source": [
    "(6) Write a Python program to check whether an element exists within a tuple. (6 points)"
   ]
  },
  {
   "cell_type": "code",
   "execution_count": 125,
   "metadata": {
    "colab": {},
    "colab_type": "code",
    "id": "7WEmgq-DF2P1"
   },
   "outputs": [
    {
     "name": "stdout",
     "output_type": "stream",
     "text": [
      "Enter Tuple Item to Find = 5\n",
      "given element is not found  5  in Input_Tuple\n"
     ]
    }
   ],
   "source": [
    "# write your answer here\n",
    "Input_Tuple = (4, 6, 8, 11, 22, 43, 58, 99, 16)\n",
    "new_element = int(input(\"Enter Tuple Item to Find = \"))\n",
    "\n",
    "if new_element in Input_Tuple:\n",
    "    print(new_element, \" is in the Input_Tuple\")\n",
    "else:\n",
    "    print(\"given element is not found \", new_element, \" in Input_Tuple\")"
   ]
  },
  {
   "cell_type": "markdown",
   "metadata": {
    "colab_type": "text",
    "id": "vD5PYLMuGga_"
   },
   "source": [
    "(7) Write a Python program to find maximum and the minimum value in a set. (6 points)"
   ]
  },
  {
   "cell_type": "code",
   "execution_count": 55,
   "metadata": {
    "colab": {},
    "colab_type": "code",
    "id": "t0D5kdJUGjjw"
   },
   "outputs": [
    {
     "name": "stdout",
     "output_type": "stream",
     "text": [
      "Minimum value of the Input_Set: 1\n",
      "Maximum value of the Input_Set: 10\n"
     ]
    }
   ],
   "source": [
    "# write your answer here\n",
    "Input_Set = {1,2,3,4,5,6,7,8,9,10}\n",
    "print(\"Minimum value of the Input_Set:\",min(Input_Set))\n",
    "print(\"Maximum value of the Input_Set:\",max(Input_Set))"
   ]
  },
  {
   "cell_type": "markdown",
   "metadata": {},
   "source": [
    "(8) Write a Python program to find the duplicate elements in a given array of integers. Return -1 If there are no such elements. (8 points)"
   ]
  },
  {
   "cell_type": "code",
   "execution_count": 123,
   "metadata": {},
   "outputs": [
    {
     "name": "stdout",
     "output_type": "stream",
     "text": [
      "[6, 7, 8]\n"
     ]
    }
   ],
   "source": [
    "# write your answer here\n",
    "Sample_array = [1,2,3,4,5,6,6,7,7,8,8,9,10]\n",
    "Empty_List = []\n",
    "    \n",
    "def Duplicate_Ele_Else_minus1(Input_array):\n",
    "    ElementsPre = False\n",
    "    for i in range(len(Input_array) - 1):\n",
    "        for j in range(i + 1, len(Input_array)):\n",
    "            if (Input_array[i] == Input_array[j]):\n",
    "                if Input_array[i] in Empty_List:\n",
    "                    break\n",
    "                else:\n",
    "                    Empty_List.append(Input_array[i])\n",
    "                    ElementsPre = True\n",
    "    if (ElementsPre):\n",
    "        print(Empty_List)\n",
    "    else:\n",
    "        print(\"-1\")\n",
    "\n",
    "Duplicate_Ele_Else_minus1(Sample_array)"
   ]
  },
  {
   "cell_type": "code",
   "execution_count": null,
   "metadata": {},
   "outputs": [],
   "source": []
  }
 ],
 "metadata": {
  "colab": {
   "collapsed_sections": [],
   "include_colab_link": true,
   "name": "In_class_exercise_01.ipynb",
   "provenance": []
  },
  "kernelspec": {
   "display_name": "Python 3 (ipykernel)",
   "language": "python",
   "name": "python3"
  },
  "language_info": {
   "codemirror_mode": {
    "name": "ipython",
    "version": 3
   },
   "file_extension": ".py",
   "mimetype": "text/x-python",
   "name": "python",
   "nbconvert_exporter": "python",
   "pygments_lexer": "ipython3",
   "version": "3.9.7"
  },
  "vscode": {
   "interpreter": {
    "hash": "5c6a7f839effdddf35473dacbb9a8184e57ebbba5133cab03b12e4f28d4f0d0f"
   }
  }
 },
 "nbformat": 4,
 "nbformat_minor": 1
}
