{
 "cells": [
  {
   "cell_type": "markdown",
   "metadata": {},
   "source": [
    "## The Eighth Lab-assignment (08/09/2022 11:59'AM' - 08/12/2022 11:59PM, 50 points in total)"
   ]
  },
  {
   "cell_type": "markdown",
   "metadata": {},
   "source": [
    "The purpose of this assignment is to practice different Hypothesis Testing and annotation quality evaluation."
   ]
  },
  {
   "cell_type": "markdown",
   "metadata": {},
   "source": [
    "### Question 1 (10 points) \n",
    "\n",
    "During the 1980s, the general consensus is that about 5% of the nation’s children had autism. Some claimed that increases certain chemicals in the environment has led to an increase in autism. \n",
    "\n",
    "(1) Write an appropriate hypothesis test for this situation (5 points).  \n",
    "\n",
    "(2) Give an appropriate test for this hypothesis, stating what are the necessary conditions for performing the test (5 points). \n",
    "\n",
    "(3) A recent study examined 384 children and found that 46 showed signs of autism. Perform a test of the hypothesis and state the p-value (5 points). "
   ]
  },
  {
   "cell_type": "markdown",
   "metadata": {},
   "source": [
    "#You answer here\n",
    "\n",
    "#1) \n",
    "\n",
    "Null Hypothesis : It estimates that approximately 5% of children has autism in the country.\n",
    "        H0: P1 = 0.05\n",
    "\n",
    "Alternate Hypothesis: It estimates that more than 5% of children has autism in the country.\n",
    "        H1: P1 > 0.05\n",
    "\n",
    "#2)\n",
    "\n",
    "Here we have sample more than 30, so I'm going to use Z-test, if we have sample less than 30, we can use T-Test\n"
   ]
  },
  {
   "cell_type": "code",
   "execution_count": 46,
   "metadata": {},
   "outputs": [
    {
     "name": "stdout",
     "output_type": "stream",
     "text": [
      "Z-stat value is -77.2644132497523\n",
      "p-value is 0.0\n"
     ]
    }
   ],
   "source": [
    "# your code here\n",
    "from statsmodels.stats.proportion import proportions_ztest\n",
    "\n",
    "population_N = 384\n",
    "\n",
    "print(\"Z-stat value is\", proportions_ztest(count = 5, nobs = population_N, value = 0.46)[0])\n",
    "print(\"p-value is\", proportions_ztest(count = 5, nobs = population_N, value = 0.46)[1])"
   ]
  },
  {
   "attachments": {
    "assignmen_9.png": {
     "image/png": "[encoded data removed]"
    }
   },
   "cell_type": "markdown",
   "metadata": {},
   "source": [
    "### Question 2 (10 points) \n",
    "In this problem,we will examine the sugar content of several national brands of cereals, here measured as a percentage of weight.\n",
    "\n",
    "![assignmen_9.png](attachment:assignmen_9.png)\n",
    "\n",
    "(1) Give a summary of these two datasets (5 points). \n",
    "\n",
    "(2) Create side-by-side boxplots and interpret what you see (5 points). \n",
    "\n",
    "(3) Use python to create a 95% confidence interval for the difference in mean sugar content and explain your result (5 points). "
   ]
  },
  {
   "cell_type": "code",
   "execution_count": 47,
   "metadata": {},
   "outputs": [
    {
     "name": "stdout",
     "output_type": "stream",
     "text": [
      "Childrens  \n",
      "Mean :  46.800000000000004\n",
      "Median :  45.9\n",
      "Standard Deviation :  6.24718884147523\n",
      "Minimum :  33.6\n",
      "Maximum :  60.3\n",
      "Length :  19\n",
      "Adults \n",
      "Mean :  10.153571428571427\n",
      "Median :  7.949999999999999\n",
      "Standard Deviation :  7.475220118252474\n",
      "Minimum :  1.0\n",
      "Maximum :  30.2\n",
      "Length :  28\n"
     ]
    }
   ],
   "source": [
    "# You answer here\n",
    "import numpy as np\n",
    "\n",
    "childrens = [40.3, 55.0, 45.7, 43.3, 50.3, 45.9, 53.5, 43.0, 44.2, 44.0, 33.6, 55.1, 48.8,50.4, 37.8, 60.3, 46.6, 47.4, 44.0]\n",
    "adults = [20.0, 30.2, 2.2, 7.5, 4.4, 22.2, 16.6, 14.5, 21.4, 3.3, 10.0, 1.0, 4.4, 1.3, 8.1, 6.6, 7.8, 10.6, 16.2, 14.5,\n",
    "        4.1, 15.8, 4.1, 2.4, 3.5, 8.5, 4.7, 18.4]\n",
    "\n",
    "# children \n",
    "print ('Childrens  ')\n",
    "print ('Mean : ',np.mean(childrens))\n",
    "print ('Median : ',np.median(childrens))\n",
    "print ('Standard Deviation : ', np.std(childrens))\n",
    "print ('Minimum : ', np.min(childrens))\n",
    "print ('Maximum : ', np.max(childrens))\n",
    "print ('Length : ', len(childrens))\n",
    "\n",
    "\n",
    "#Adult\n",
    "print ('Adults ')\n",
    "print ('Mean : ',np.mean(adults))\n",
    "print ('Median : ',np.median(adults))\n",
    "print ('Standard Deviation : ', np.std(adults))\n",
    "print ('Minimum : ', np.min(adults))\n",
    "print ('Maximum : ', np.max(adults))\n",
    "print ('Length : ', len(adults))"
   ]
  },
  {
   "cell_type": "code",
   "execution_count": 48,
   "metadata": {},
   "outputs": [
    {
     "data": {
      "image/png": "[encoded data removed]",
      "text/plain": [
       "<Figure size 432x288 with 2 Axes>"
      ]
     },
     "metadata": {
      "needs_background": "light"
     },
     "output_type": "display_data"
    }
   ],
   "source": [
    "# your code here\n",
    "import matplotlib.pyplot as plt\n",
    "\n",
    "plt.subplot(1, 2, 1) # quadrant 1\n",
    "plt.boxplot(childrens)\n",
    "plt.title(\"Boxplot for childrens\")\n",
    "plt.subplot(1, 2, 2) # quadrant 2\n",
    "plt.boxplot(adults)\n",
    "plt.title(\"Boxplot for adults\")\n",
    "plt.show()"
   ]
  },
  {
   "cell_type": "markdown",
   "metadata": {},
   "source": [
    "there are more children than adults, on average. In contrast to adults, where there are no outliers, the median for children is almost close to the mean (as estimated above)."
   ]
  },
  {
   "cell_type": "code",
   "execution_count": 49,
   "metadata": {},
   "outputs": [
    {
     "name": "stdout",
     "output_type": "stream",
     "text": [
      "The 95% confidence interval for sugar content for childrens are  (43.706441602172454, 49.893558397827555)\n",
      "The 95% confidence interval for sugar content for adult are  (7.201794131005471, 13.105348726137382)\n"
     ]
    }
   ],
   "source": [
    "import numpy as np\n",
    "import scipy.stats as st\n",
    "\n",
    "# create 95% confidence interval\n",
    "print(\"The 95% confidence interval for sugar content for childrens are \", st.t.interval(alpha=0.95,df=len(childrens)-1,\n",
    "                                                                            loc=np.mean(childrens),scale=st.sem(childrens)))\n",
    "\n",
    "print(\"The 95% confidence interval for sugar content for adult are \",st.t.interval(alpha=0.95,df=len(adults)-1,\n",
    "                                                                                   loc=np.mean(adults), scale=st.sem(adults)))"
   ]
  },
  {
   "cell_type": "markdown",
   "metadata": {},
   "source": [
    "### Question 3 (30 points) \n",
    "\n",
    "Cohen's kappa coefficient (κ) is a statistic that is used to measure inter-rater reliability (and also intra-rater reliability) for qualitative (categorical) items. It is generally thought to be a more robust measure than simple percent agreement calculation, as κ takes into account the possibility of the agreement occurring by chance. There is controversy surrounding Cohen's kappa due to the difficulty in interpreting indices of agreement. Some researchers have suggested that it is conceptually simpler to evaluate disagreement between items.\n",
    "\n",
    "A more detailed description of Kappa agreement can be found on wikipedia: https://en.wikipedia.org/wiki/Cohen%27s_kappa\n",
    "\n",
    "Here is the dataset we created for a text classification task: https://github.com/suthapalliuday/INFO5502-Summer2022/blob/main/datasets/lab08-dataset.csv\n",
    "\n",
    "The last three columns indicate the annotation on the same sentence by three students respectively. Based on this dataset, please calculate the Cohen's kappa and the Fleiss' kappa using their formulars (Python). Please don't use any existing packages for the implementation. "
   ]
  },
  {
   "cell_type": "code",
   "execution_count": 50,
   "metadata": {},
   "outputs": [],
   "source": [
    "import os\n",
    "os.chdir(\"C:\\\\Users\\\\Sasi9\\\\Downloads\\\\INFO5502-Summer2022-main\\\\INFO5502-Summer2022-main\\\\datasets\\\\\")"
   ]
  },
  {
   "cell_type": "code",
   "execution_count": 51,
   "metadata": {},
   "outputs": [
    {
     "data": {
      "text/html": [
       "<div>\n",
       "<style scoped>\n",
       "    .dataframe tbody tr th:only-of-type {\n",
       "        vertical-align: middle;\n",
       "    }\n",
       "\n",
       "    .dataframe tbody tr th {\n",
       "        vertical-align: top;\n",
       "    }\n",
       "\n",
       "    .dataframe thead th {\n",
       "        text-align: right;\n",
       "    }\n",
       "</style>\n",
       "<table border=\"1\" class=\"dataframe\">\n",
       "  <thead>\n",
       "    <tr style=\"text-align: right;\">\n",
       "      <th></th>\n",
       "      <th>Title of Article</th>\n",
       "      <th>Contributions</th>\n",
       "      <th>Source</th>\n",
       "      <th>Annotation1</th>\n",
       "      <th>Annotation2</th>\n",
       "      <th>Annotation3</th>\n",
       "      <th>Year</th>\n",
       "    </tr>\n",
       "  </thead>\n",
       "  <tbody>\n",
       "    <tr>\n",
       "      <th>0</th>\n",
       "      <td>The measurement of ÒinterdisciplinarityÓ and Ò...</td>\n",
       "      <td>In this study, we discuss recent advances in t...</td>\n",
       "      <td>JASIST</td>\n",
       "      <td>Algorithms/ Methods Construction or Optimization</td>\n",
       "      <td>Algorithms/ Methods Construction or Optimization</td>\n",
       "      <td>Algorithms/ Methods Construction or Optimization</td>\n",
       "      <td>NaN</td>\n",
       "    </tr>\n",
       "    <tr>\n",
       "      <th>1</th>\n",
       "      <td>Innovation adoption: Broadcasting versus virality</td>\n",
       "      <td>broadcasting and virality have similar diffusi...</td>\n",
       "      <td>JASIST</td>\n",
       "      <td>Theory proposal\\n</td>\n",
       "      <td>Theory proposal\\n</td>\n",
       "      <td>Theory proposal\\n</td>\n",
       "      <td>NaN</td>\n",
       "    </tr>\n",
       "    <tr>\n",
       "      <th>2</th>\n",
       "      <td>Discovering underlying sensations of human emo...</td>\n",
       "      <td>we report the results of our study on sensatio...</td>\n",
       "      <td>JASIST</td>\n",
       "      <td>Theory proposal\\n</td>\n",
       "      <td>Algorithms/ Methods Construction or Optimization</td>\n",
       "      <td>Theory proposal\\n</td>\n",
       "      <td>NaN</td>\n",
       "    </tr>\n",
       "    <tr>\n",
       "      <th>3</th>\n",
       "      <td>Discovering underlying sensations of human emo...</td>\n",
       "      <td>in the second part of the paper, we define nov...</td>\n",
       "      <td>JASIST</td>\n",
       "      <td>Theory proposal\\n</td>\n",
       "      <td>Theory proposal\\n</td>\n",
       "      <td>Theory proposal\\n</td>\n",
       "      <td>NaN</td>\n",
       "    </tr>\n",
       "    <tr>\n",
       "      <th>4</th>\n",
       "      <td>Discovering underlying sensations of human emo...</td>\n",
       "      <td>we design a method to classify texts into ones...</td>\n",
       "      <td>JASIST</td>\n",
       "      <td>Algorithms/ Methods Construction or Optimization</td>\n",
       "      <td>Model Construction or Optimization</td>\n",
       "      <td>Algorithms/ Methods Construction or Optimization</td>\n",
       "      <td>NaN</td>\n",
       "    </tr>\n",
       "  </tbody>\n",
       "</table>\n",
       "</div>"
      ],
      "text/plain": [
       "                                    Title of Article  \\\n",
       "0  The measurement of ÒinterdisciplinarityÓ and Ò...   \n",
       "1  Innovation adoption: Broadcasting versus virality   \n",
       "2  Discovering underlying sensations of human emo...   \n",
       "3  Discovering underlying sensations of human emo...   \n",
       "4  Discovering underlying sensations of human emo...   \n",
       "\n",
       "                                       Contributions  Source  \\\n",
       "0  In this study, we discuss recent advances in t...  JASIST   \n",
       "1  broadcasting and virality have similar diffusi...  JASIST   \n",
       "2  we report the results of our study on sensatio...  JASIST   \n",
       "3  in the second part of the paper, we define nov...  JASIST   \n",
       "4  we design a method to classify texts into ones...  JASIST   \n",
       "\n",
       "                                        Annotation1  \\\n",
       "0  Algorithms/ Methods Construction or Optimization   \n",
       "1                                 Theory proposal\\n   \n",
       "2                                 Theory proposal\\n   \n",
       "3                                 Theory proposal\\n   \n",
       "4  Algorithms/ Methods Construction or Optimization   \n",
       "\n",
       "                                        Annotation2  \\\n",
       "0  Algorithms/ Methods Construction or Optimization   \n",
       "1                                 Theory proposal\\n   \n",
       "2  Algorithms/ Methods Construction or Optimization   \n",
       "3                                 Theory proposal\\n   \n",
       "4                Model Construction or Optimization   \n",
       "\n",
       "                                        Annotation3  Year  \n",
       "0  Algorithms/ Methods Construction or Optimization   NaN  \n",
       "1                                 Theory proposal\\n   NaN  \n",
       "2                                 Theory proposal\\n   NaN  \n",
       "3                                 Theory proposal\\n   NaN  \n",
       "4  Algorithms/ Methods Construction or Optimization   NaN  "
      ]
     },
     "execution_count": 51,
     "metadata": {},
     "output_type": "execute_result"
    }
   ],
   "source": [
    "# your code here\n",
    "import pandas as pd\n",
    "import numpy as np\n",
    "from sklearn.preprocessing import LabelEncoder\n",
    "\n",
    "# read data \n",
    "data = pd.read_csv(\"lab08-dataset.csv\")\n",
    "data.head()\n"
   ]
  },
  {
   "cell_type": "code",
   "execution_count": 52,
   "metadata": {},
   "outputs": [],
   "source": [
    "# label encode the categorical columns data\n",
    "Encoding = LabelEncoder()\n",
    "\n",
    "# label encode\n",
    "Encoding.fit(data['Annotation1'])\n",
    "\n",
    "# fitting the Annotation 1 data and transforming the annotation 2 & annotation 3\n",
    "data['le_Annotation1'] = le.transform(data['Annotation1'])\n",
    "data['le_Annotation2'] = le.transform(data['Annotation2'])\n",
    "data['le_Annotation3'] = le.transform(data['Annotation3'])"
   ]
  },
  {
   "cell_type": "code",
   "execution_count": 53,
   "metadata": {},
   "outputs": [
    {
     "name": "stdout",
     "output_type": "stream",
     "text": [
      "Cohen's kappa score is: 0.54\n",
      "Moderate agreement\n"
     ]
    }
   ],
   "source": [
    "from sklearn.metrics import cohen_kappa_score\n",
    "\n",
    "# finding pair-wise cohen's kappa score\n",
    "score_1 = cohen_kappa_score(list(data['le_Annotation1'].values), list(data['le_Annotation2'].values))\n",
    "score_2 = cohen_kappa_score(list(data['le_Annotation2'].values), list(data['le_Annotation3'].values))\n",
    "score_3 = cohen_kappa_score(list(data['le_Annotation1'].values), list(data['le_Annotation3'].values))\n",
    "\n",
    "# take average of all 3 scores\n",
    "avg_k_s = (score_1 + score_2 + score_3)/3\n",
    "print(\"Cohen's kappa score is:\", round(avg_k_s, 2))\n",
    "\n",
    "# determining agreement based on cohen kappa score\n",
    "if avg_k_s < 0.0:\n",
    "    print(\"No agreement\")\n",
    "\n",
    "elif ((avg_k_s >= 0.01) & (avg_k_s <= 0.20)):\n",
    "    print(\"Slight agreement\")\n",
    "\n",
    "elif ((avg_k_s >= 0.21) and (avg_k_s <= 0.40)):\n",
    "    print(\"Fair agreement\")\n",
    "\n",
    "elif ((avg_k_s >= 0.41) and (avg_k_s <= 0.60)):\n",
    "    print(\"Moderate agreement\")\n",
    "\n",
    "elif ((avg_k_s >= 0.61) and (avg_k_s <= 0.80)):\n",
    "    print(\"Substantial agreement\")\n",
    "\n",
    "elif ((avg_k_s >= 0.81) and (avg_k_s <= 0.99)):\n",
    "    print(\"Perfect agreement\")\n",
    "    "
   ]
  },
  {
   "cell_type": "code",
   "execution_count": 54,
   "metadata": {},
   "outputs": [
    {
     "name": "stdout",
     "output_type": "stream",
     "text": [
      "Fleiss kappa score is: 0.565\n"
     ]
    }
   ],
   "source": [
    "import krippendorff\n",
    "data1 = [list(data['le_Annotation1'].values),\n",
    "        list(data['le_Annotation2'].values),\n",
    "        list(data['le_Annotation3'].values)]\n",
    "\n",
    "# fleiss kappa score\n",
    "fleiss_kappa_score = krippendorff.alpha(data1)\n",
    "print(\"Fleiss kappa score is:\", round(fleiss_kappa_score, 3))"
   ]
  },
  {
   "cell_type": "code",
   "execution_count": null,
   "metadata": {},
   "outputs": [],
   "source": []
  }
 ],
 "metadata": {
  "kernelspec": {
   "display_name": "Python 3 (ipykernel)",
   "language": "python",
   "name": "python3"
  },
  "language_info": {
   "codemirror_mode": {
    "name": "ipython",
    "version": 3
   },
   "file_extension": ".py",
   "mimetype": "text/x-python",
   "name": "python",
   "nbconvert_exporter": "python",
   "pygments_lexer": "ipython3",
   "version": "3.9.7"
  }
 },
 "nbformat": 4,
 "nbformat_minor": 4
}
