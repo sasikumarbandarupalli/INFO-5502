{
 "cells": [
  {
   "cell_type": "markdown",
   "metadata": {},
   "source": [
    "## The third Lab-assignment (07/22/2022 11:59'AM' - 07/26/2022 11:59PM, 50 points in total)"
   ]
  },
  {
   "cell_type": "markdown",
   "metadata": {},
   "source": [
    "The purpose of this exercise is to understand users' information needs, then collect data from different sources for analysis."
   ]
  },
  {
   "cell_type": "markdown",
   "metadata": {},
   "source": [
    "Question 1 (10 points). Fomulate your domain problem: Describe an interesting research question (or practical question) you have in mind, what kind of data should be collected to answer the question(s)? How many data needed for the analysis? The detail steps for collecting and save the data. "
   ]
  },
  {
   "cell_type": "code",
   "execution_count": null,
   "metadata": {},
   "outputs": [],
   "source": [
    "# Your answer here (no code for this question, write down your answer as detail as possible for the above questions):\n",
    "\n",
    "'''\n",
    "Please write you answer here:\n",
    "Domain Problem: Decresing the Sales of Products in Ecommerce site\n",
    "\n",
    "Research Question: How you are going to Incrase the sales of Particuar Products\n",
    "\n",
    "Data Collection: Here I used selenium webdrivers and Beautiful soup, Regex libraries to scrape data from the Ecommerce site(Flipkart.com)\n",
    "From this data we filtered the reviews for each product and I will apply Sentiment Analaysis, Ngrams and Topic Modelling \n",
    "to get better business insights from reviews and increasing sales of all products \n",
    "\n",
    "Here I'm using Selenium webdriver to open the url and beautiful soup library to parse data scraped from the Flipkart site \n",
    "and uing regex to extract data from parsed data and created dataframe to do EDA and Topic Modelling and Sentiment Analysis\n",
    "\n",
    "'''"
   ]
  },
  {
   "cell_type": "markdown",
   "metadata": {},
   "source": [
    "Question 2 (30 points). Collect your data to answer the research problem: Write python code to collect 1000 data samples you discussed above."
   ]
  },
  {
   "cell_type": "code",
   "execution_count": 1,
   "metadata": {},
   "outputs": [],
   "source": [
    "import urllib\n",
    "import urllib.request\n",
    "from bs4 import BeautifulSoup\n",
    "import pandas as pd\n",
    "from selenium import webdriver\n",
    "from selenium.webdriver.common.keys import Keys\n",
    "import time\n",
    "from selenium.webdriver.common.by import By"
   ]
  },
  {
   "cell_type": "code",
   "execution_count": 18,
   "metadata": {},
   "outputs": [
    {
     "name": "stderr",
     "output_type": "stream",
     "text": [
      "C:\\Users\\Sasi9\\AppData\\Local\\Temp\\ipykernel_22596\\3968503865.py:2: DeprecationWarning: executable_path has been deprecated, please pass in a Service object\n",
      "  driver = webdriver.Chrome(executable_path=r'C:/Users/Sasi9/Downloads/chromedriver_win32/chromedriver.exe')  #Setting up a web driver to open website (used Firefox here)\n"
     ]
    }
   ],
   "source": [
    "# You code here (Please add comments in the code):\n",
    "driver = webdriver.Chrome(executable_path=r'C:/Users/Sasi9/Downloads/chromedriver_win32/chromedriver.exe')  #Setting up a web driver to open website (used Firefox here)\n",
    "url = \"https://www.flipkart.com/redmi-10-pacific-blue-64-gb/product-reviews/itm0f2a6a2112b75?pid=MOBGC9GYCHQZK9GW&lid=LSTMOBGC9GYCHQZK9GW1PUFXX&marketplace=FLIPKART\"\n",
    "#url = \"https://www.flipkart.com/redmi-9i-sport-carbon-black-64-gb/product-reviews/itm17ed463dc779a?pid=MOBG6WQWRGRRDBH6&lid=LSTMOBG6WQWRGRRDBH6BCUNBA&marketplace=FLIPKART\"\n",
    "#url = \"https://www.flipkart.com/apple-iphone-12-white-128-gb/product-reviews/itm95393f4c6cc59?pid=MOBFWBYZBTZFGJF9&lid=LSTMOBFWBYZBTZFGJF9RAHZAK&marketplace=FLIPKART\"\n",
    "driver.get(url)\n",
    "driver.implicitly_wait(10)\n",
    "Reviews_list=[]\n",
    "for _ in range(20):\n",
    "    driver.execute_script(\"window.scrollTo(0, document.body.scrollHeight);\")\n",
    "    time.sleep(2)\n",
    "    driver.find_element(By.LINK_TEXT,'NEXT').click()\n",
    "    time.sleep(5)\n",
    "    soup = BeautifulSoup(driver.page_source, 'html.parser') #html parser to parse the website based on html tags\n",
    "    res = soup.find('div', attrs={'class':'_1YokD2 _3Mn1Gg col-9-12'})        #Area of target  \n",
    "    lists = res.findAll('div',{'class':'_27M-vq'})   \n",
    "    \n",
    "    for li in lists:\n",
    "        Rating = li.findAll('div',{'class':'_3LWZlK _1BLPMq'})\n",
    "        for re in Rating:\n",
    "            rea = re.text\n",
    "            #print(\"Name:\" + rea)\n",
    "\n",
    "        Review_Title = li.findAll('p',{'class':'_2-N8zT'})\n",
    "        for re1 in Review_Title:\n",
    "            reb = re1.text\n",
    "            #print(\"member:\" + reb)\n",
    "\n",
    "        User_Name = li.findAll('p',{'class':'_2sc7ZR _2V5EHH'})\n",
    "        for re3 in User_Name:\n",
    "            rex = re3.text\n",
    "            #print(\"followers:\" + rex)\n",
    "\n",
    "        reviews = li.findAll('div',{'class':'t-ZTKy'})\n",
    "        for re4 in reviews:\n",
    "            rey = re4.text\n",
    "            #print(\"Comment:\" + rey)\n",
    "\n",
    "            Reviews = [rex,rea, reb,rey]\n",
    "            Reviews_list.append(Reviews)"
   ]
  },
  {
   "cell_type": "code",
   "execution_count": 19,
   "metadata": {},
   "outputs": [
    {
     "name": "stdout",
     "output_type": "stream",
     "text": [
      "(171, 4)\n"
     ]
    },
    {
     "data": {
      "text/html": [
       "<div>\n",
       "<style scoped>\n",
       "    .dataframe tbody tr th:only-of-type {\n",
       "        vertical-align: middle;\n",
       "    }\n",
       "\n",
       "    .dataframe tbody tr th {\n",
       "        vertical-align: top;\n",
       "    }\n",
       "\n",
       "    .dataframe thead th {\n",
       "        text-align: right;\n",
       "    }\n",
       "</style>\n",
       "<table border=\"1\" class=\"dataframe\">\n",
       "  <thead>\n",
       "    <tr style=\"text-align: right;\">\n",
       "      <th></th>\n",
       "      <th>User_Name</th>\n",
       "      <th>Rating</th>\n",
       "      <th>Review_Title</th>\n",
       "      <th>Review</th>\n",
       "    </tr>\n",
       "  </thead>\n",
       "  <tbody>\n",
       "    <tr>\n",
       "      <th>0</th>\n",
       "      <td>Hasan</td>\n",
       "      <td>5</td>\n",
       "      <td>Excellent</td>\n",
       "      <td>Getting snapdragon 680 processor in this price...</td>\n",
       "    </tr>\n",
       "    <tr>\n",
       "      <th>1</th>\n",
       "      <td>silambarasan s</td>\n",
       "      <td>5</td>\n",
       "      <td>Worst experience ever!</td>\n",
       "      <td>I bought this mobile on May 20th and I write r...</td>\n",
       "    </tr>\n",
       "    <tr>\n",
       "      <th>2</th>\n",
       "      <td>Flipkart Customer</td>\n",
       "      <td>4</td>\n",
       "      <td>Value-for-money</td>\n",
       "      <td>The device comes in a very good packaging.It w...</td>\n",
       "    </tr>\n",
       "    <tr>\n",
       "      <th>3</th>\n",
       "      <td>Flipkart Customer</td>\n",
       "      <td>5</td>\n",
       "      <td>Worth every penny</td>\n",
       "      <td>I have exchange my 4 year used vivo Y71i for t...</td>\n",
       "    </tr>\n",
       "    <tr>\n",
       "      <th>4</th>\n",
       "      <td>Chandu Nishad</td>\n",
       "      <td>3</td>\n",
       "      <td>Decent product</td>\n",
       "      <td>Performance is very good  I love this mobile r...</td>\n",
       "    </tr>\n",
       "    <tr>\n",
       "      <th>5</th>\n",
       "      <td>Ujjwal Rajput</td>\n",
       "      <td>4</td>\n",
       "      <td>Nice product</td>\n",
       "      <td>All departments of this device is good except ...</td>\n",
       "    </tr>\n",
       "    <tr>\n",
       "      <th>6</th>\n",
       "      <td>Flipkart Customer</td>\n",
       "      <td>3</td>\n",
       "      <td>Decent product</td>\n",
       "      <td>I expected more from this device but when I st...</td>\n",
       "    </tr>\n",
       "    <tr>\n",
       "      <th>7</th>\n",
       "      <td>Eswaran R</td>\n",
       "      <td>5</td>\n",
       "      <td>Great product</td>\n",
       "      <td>Good go for it, 🙂READ MORE</td>\n",
       "    </tr>\n",
       "    <tr>\n",
       "      <th>8</th>\n",
       "      <td>Adithyan s Adhi</td>\n",
       "      <td>5</td>\n",
       "      <td>Brilliant</td>\n",
       "      <td>Best phone  this price rangeREAD MORE</td>\n",
       "    </tr>\n",
       "    <tr>\n",
       "      <th>9</th>\n",
       "      <td>kripasindhu das</td>\n",
       "      <td>5</td>\n",
       "      <td>Mind-blowing purchase</td>\n",
       "      <td>Original products and good servicesREAD MORE</td>\n",
       "    </tr>\n",
       "  </tbody>\n",
       "</table>\n",
       "</div>"
      ],
      "text/plain": [
       "           User_Name Rating            Review_Title  \\\n",
       "0              Hasan      5               Excellent   \n",
       "1     silambarasan s      5  Worst experience ever!   \n",
       "2  Flipkart Customer      4         Value-for-money   \n",
       "3  Flipkart Customer      5       Worth every penny   \n",
       "4      Chandu Nishad      3          Decent product   \n",
       "5      Ujjwal Rajput      4            Nice product   \n",
       "6  Flipkart Customer      3          Decent product   \n",
       "7          Eswaran R      5           Great product   \n",
       "8    Adithyan s Adhi      5               Brilliant   \n",
       "9    kripasindhu das      5   Mind-blowing purchase   \n",
       "\n",
       "                                              Review  \n",
       "0  Getting snapdragon 680 processor in this price...  \n",
       "1  I bought this mobile on May 20th and I write r...  \n",
       "2  The device comes in a very good packaging.It w...  \n",
       "3  I have exchange my 4 year used vivo Y71i for t...  \n",
       "4  Performance is very good  I love this mobile r...  \n",
       "5  All departments of this device is good except ...  \n",
       "6  I expected more from this device but when I st...  \n",
       "7                         Good go for it, 🙂READ MORE  \n",
       "8              Best phone  this price rangeREAD MORE  \n",
       "9       Original products and good servicesREAD MORE  "
      ]
     },
     "execution_count": 19,
     "metadata": {},
     "output_type": "execute_result"
    }
   ],
   "source": [
    "x = pd.DataFrame(Reviews_list, columns =['User_Name','Rating','Review_Title','Review'])\n",
    "print(x.shape)\n",
    "x.head(10)"
   ]
  },
  {
   "cell_type": "markdown",
   "metadata": {},
   "source": [
    "Question 3 (10 points). Understand the data quality: Search a second hand dataset (any dataset) from kaggle or other websites. Describe the data quality problem of the dataset and explain your strtegy to clean the data."
   ]
  },
  {
   "cell_type": "code",
   "execution_count": null,
   "metadata": {},
   "outputs": [],
   "source": [
    "# Your answer here (no code for this question, write down your answer as detail as possible for the above questions):\n",
    "'''\n",
    "\n",
    "Please write you answer here:\n",
    "\n",
    "From the above code we get the reviews for Realme10 mobile, In the same way we can get the comments for all type of products \n",
    "data using the same code and I have arranges it in the tabular format, for each review I scraped the User Name, Rating, \n",
    "Title of review and Review, by using Review Column I can do \n",
    "Preprocessing steps:\n",
    "1. Tokenising Data\n",
    "2. Removing Extra spaces & other characters in reviews\n",
    "3. Removing Stop words\n",
    "4. Applying Stemming or Lemmatization\n",
    "5. Applying N grams to Data\n",
    "6. Sentiment Analysis of Preprocessed Data \n",
    "7. Sentiment Analysis of N-Grams Data \n",
    "8. Topic Modelling\n",
    "9. Giving Business Insights based on this analysis\n",
    "\n",
    "We have different review datasets in Kaggle and also in data.world below are the links for the second hand datasets\n",
    "https://www.kaggle.com/datasets/naushads/flipkart-reviews\n",
    "https://www.kaggle.com/datasets/kabirnagpal/flipkart-customer-review-and-rating\n",
    "https://data.world/datasets/flipkart\n",
    "\n",
    "'''"
   ]
  }
 ],
 "metadata": {
  "kernelspec": {
   "display_name": "Python 3 (ipykernel)",
   "language": "python",
   "name": "python3"
  },
  "language_info": {
   "codemirror_mode": {
    "name": "ipython",
    "version": 3
   },
   "file_extension": ".py",
   "mimetype": "text/x-python",
   "name": "python",
   "nbconvert_exporter": "python",
   "pygments_lexer": "ipython3",
   "version": "3.9.7"
  },
  "vscode": {
   "interpreter": {
    "hash": "5c6a7f839effdddf35473dacbb9a8184e57ebbba5133cab03b12e4f28d4f0d0f"
   }
  }
 },
 "nbformat": 4,
 "nbformat_minor": 2
}
