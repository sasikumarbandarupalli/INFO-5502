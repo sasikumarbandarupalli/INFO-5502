{
 "cells": [
  {
   "cell_type": "markdown",
   "metadata": {},
   "source": [
    "## The fifth Lab-assignment (07/29/2022 11:59'AM' - 08/02/2022 11:59PM, 50 points in total)"
   ]
  },
  {
   "cell_type": "markdown",
   "metadata": {},
   "source": [
    "The purpose of this exercise is to understand Data Visualization, we will practice how to create visualizations for different datasets bu using different tools."
   ]
  },
  {
   "cell_type": "markdown",
   "metadata": {},
   "source": [
    "Question 1 (50 points). In this questions, you will design a visualization for a small data set and provide a rigorous rationale for your design choices. \n",
    "\n",
    "Every 10 years, the census bureau documents the demographic make-up of the United States, influencing everything from congressional districting to social services. This dataset contains a high-level summary of census data for two years a century apart: 1900 and 2000. The data is a CSV (comma-separated values) file that describes the U.S. population in terms of year, reported sex (1: male, 2: female), age group (binned into 5 year segments from 0-4 years old up to 90+ years old), and the total count of people per group. There are 38 data points per year, for a total of 76 data points.\n",
    "\n",
    "You can download the dataset here: \n",
    "\n",
    "Dataset: https://github.com/suthapalliuday/INFO5502-Summer2022/blob/main/datasets/lab_assignment_05_census.csv\n",
    "\n",
    "Source: https://www.ipums.org/\n",
    "\n",
    "(1)(10 points) Start by choosing a question you'd like a visualization to answer.\n",
    "\n",
    "(2)(30 points) Generate a static visualization (i.e., a single image) that you believe effectively answers that question, and use the question as the title of your graphic.\n",
    "\n",
    "(3)(10 points) Provide a short write-up (no more than 3 paragraphs) describing your design.\n",
    "\n",
    "\n",
    "While you must use the data set given, you are free to transform the data as you see fit. Such transforms may include (but are not limited to) log transformation, computing percentages or averages, grouping elements into new categories, or removing unnecessary variables or records. You are also free to incorporate external data as you see fit. Your chart image should be interpretable without recourse to your short write-up. Do not forget to include title, axis labels or legends as needed!\n",
    "\n",
    "As different visualizations can emphasize different aspects of a data set, you should document what aspects of the data you are attempting to most effectively communicate. In short, what story are you trying to tell? Just as important, also note which aspects of the data might be obscured or down-played due to your visualization design.\n",
    "\n",
    "In your write-up, you should provide a rigorous rationale for your design decisions. Document the visual encodings you used and why they are appropriate for the data and your specific question. These decisions include the choice of visualization type, size, color, scale, and other visual elements, as well as the use of sorting or other data transformations. How do these decisions facilitate effective communication?"
   ]
  },
  {
   "cell_type": "markdown",
   "metadata": {},
   "source": [
    "## Your answer here (question + explanation):\n",
    "\n",
    "Q1) What is the population increase over the decade, which age categories has the highest population growth?\n",
    "\n",
    "Here we have the census bureau data for 1900 and 2000 and we have the count for population of each age category for \n",
    "both genders\n"
   ]
  },
  {
   "cell_type": "code",
   "execution_count": 4,
   "metadata": {},
   "outputs": [
    {
     "data": {
      "image/png": "[encoded data removed]",
      "text/plain": [
       "<Figure size 1165.58x432 with 2 Axes>"
      ]
     },
     "metadata": {
      "needs_background": "light"
     },
     "output_type": "display_data"
    }
   ],
   "source": [
    "# Your answer here (python code + explanation):\n",
    "#Q2)\n",
    "\n",
    "import pandas as pd\n",
    "import matplotlib.pyplot as plt\n",
    "import seaborn as sns\n",
    "\n",
    "df = pd.read_csv(\"lab_assignment_05_census.csv\")\n",
    "#print(df.shape)\n",
    "#df.head()\n",
    "\n",
    "sns.catplot(x=\"Age\", y=\"People\", hue=\"Sex\", col=\"Year\", data=df, kind=\"bar\",height=6, aspect=1.3)\n",
    "plt.ticklabel_format(style='plain', axis='y')\n",
    "plt.show()"
   ]
  },
  {
   "cell_type": "markdown",
   "metadata": {},
   "source": [
    "## Your answer here (interpretation of the results):  \n",
    "Based on the above plot, we can infer that there will be significant population growth over the ensuing ten years. \n",
    "If we look at the first plot, we can see that there is a significant 200 percent growth in the population in the 0 to 10 \n",
    "age group and a similar huge increase from 10 to 30 from 4000000 to 10000000. If we look at the age category from 30 to 45, \n",
    "there is a significant 300 percent growth in population in this category, with more growth increase in females. and the \n",
    "population grows by twofold between the ages of 45 and 60, even between the ages of 65 and 90. There is a greater population \n",
    "growth in the female category, too, from the age range of 65 to 90.\n",
    "If we make predictions for the next ten years, the numbers will rise by more than 400% in each age group and by even more in \n",
    "the female category."
   ]
  },
  {
   "cell_type": "code",
   "execution_count": null,
   "metadata": {},
   "outputs": [],
   "source": []
  }
 ],
 "metadata": {
  "kernelspec": {
   "display_name": "Python 3 (ipykernel)",
   "language": "python",
   "name": "python3"
  },
  "language_info": {
   "codemirror_mode": {
    "name": "ipython",
    "version": 3
   },
   "file_extension": ".py",
   "mimetype": "text/x-python",
   "name": "python",
   "nbconvert_exporter": "python",
   "pygments_lexer": "ipython3",
   "version": "3.9.7"
  }
 },
 "nbformat": 4,
 "nbformat_minor": 2
}
