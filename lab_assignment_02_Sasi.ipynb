{
 "cells": [
  {
   "cell_type": "markdown",
   "metadata": {
    "colab_type": "text",
    "id": "Ryk8D1Q4Wsrp"
   },
   "source": [
    "# **The second Lab-assignment (07/19/2022 11:59'AM' - 07/22/2022 11:59PM, 50 points in total)**"
   ]
  },
  {
   "cell_type": "markdown",
   "metadata": {
    "colab_type": "text",
    "id": "90_NR8c5XGWc"
   },
   "source": [
    "# Question 1\n",
    "\n",
    "(5 points). Write a Python program to generate 12 random numbers between 1 and 100. Sort the list of numbers in ascending order and print it out. Sort the list of numbers in descending order and print it out. Calculate the average for the group and print it out."
   ]
  },
  {
   "cell_type": "code",
   "execution_count": 2,
   "metadata": {
    "colab": {},
    "colab_type": "code",
    "id": "5QX6bJjGWXY9"
   },
   "outputs": [
    {
     "data": {
      "text/plain": [
       "[22, 12, 15, 78, 90, 72, 41, 93, 7, 38, 65, 76]"
      ]
     },
     "execution_count": 2,
     "metadata": {},
     "output_type": "execute_result"
    }
   ],
   "source": [
    "# Your code here\n",
    "import random\n",
    "\n",
    "numbers = [random.randint(1,100) for i in range(1,13)]\n",
    "len(numbers)\n",
    "numbers"
   ]
  },
  {
   "cell_type": "code",
   "execution_count": 4,
   "metadata": {},
   "outputs": [
    {
     "data": {
      "text/plain": [
       "[7, 12, 15, 22, 38, 41, 65, 72, 76, 78, 90, 93]"
      ]
     },
     "execution_count": 4,
     "metadata": {},
     "output_type": "execute_result"
    }
   ],
   "source": [
    "asc_nums = sorted(numbers)\n",
    "asc_nums"
   ]
  },
  {
   "cell_type": "code",
   "execution_count": 6,
   "metadata": {},
   "outputs": [
    {
     "data": {
      "text/plain": [
       "[93, 90, 78, 76, 72, 65, 41, 38, 22, 15, 12, 7]"
      ]
     },
     "execution_count": 6,
     "metadata": {},
     "output_type": "execute_result"
    }
   ],
   "source": [
    "des_nums = sorted(numbers)[::-1]\n",
    "des_nums"
   ]
  },
  {
   "cell_type": "code",
   "execution_count": 8,
   "metadata": {},
   "outputs": [
    {
     "data": {
      "text/plain": [
       "50.75"
      ]
     },
     "execution_count": 8,
     "metadata": {},
     "output_type": "execute_result"
    }
   ],
   "source": [
    "avg_group = sum(numbers)/len(numbers)\n",
    "avg_group"
   ]
  },
  {
   "cell_type": "markdown",
   "metadata": {
    "colab_type": "text",
    "id": "CmFoI4jDS9nx"
   },
   "source": [
    "# Question 2 \n",
    "\n",
    "(5 points). The formula that describes the volume V of a sphere with radius r is the following:\n",
    "\n",
    "$ V=\\frac{4}{3}\\ast\\ \\pi\\ast\\ r^3 $\n",
    "\n",
    "Write a program to calculate the value of V when r is in the range of 1–10. Output the result in the following format:\n",
    "\n",
    "\tr\tV\n",
    "\t1\t…\n",
    "\t2\t…\n",
    "\t3\t…\n"
   ]
  },
  {
   "cell_type": "code",
   "execution_count": 11,
   "metadata": {
    "colab": {},
    "colab_type": "code",
    "id": "pEyqeioAT95b"
   },
   "outputs": [
    {
     "name": "stdout",
     "output_type": "stream",
     "text": [
      "r V\n",
      "1 4.1887902047863905\n",
      "2 33.510321638291124\n",
      "3 113.09733552923255\n",
      "4 268.082573106329\n",
      "5 523.5987755982989\n",
      "6 904.7786842338604\n",
      "7 1436.755040241732\n",
      "8 2144.660584850632\n",
      "9 3053.628059289279\n",
      "10 4188.790204786391\n"
     ]
    }
   ],
   "source": [
    "# Your code here\n",
    "import math\n",
    "def volume_sphere(r):\n",
    "    v = (4/3) * math.pi * r*r*r\n",
    "    return v\n",
    "\n",
    "print(\"r\", \"V\")\n",
    "for i in range(1,11):\n",
    "    print(i, volume_sphere(i))"
   ]
  },
  {
   "cell_type": "markdown",
   "metadata": {
    "colab_type": "text",
    "id": "z3tBE7E-Xn5X"
   },
   "source": [
    "# Question 3\n",
    "\n",
    "(40 points). In the field of Data Science, data is often formatted as a comma-delimited (CSV) file, where each line in a file corresponds to a field's value. Refer to Chapter 9 (p. 106) for more information on comma-delimited files. To answer this question, you will need to download the file [lab_assignment_02_denton_housing.csv](https://github.com/suthapalliuday/INFO5502-Summer2022/blob/main/datasets/lab_assignment_02_denton_housing.csv) included with this assignment. The file [lab_assignment_02_denton_housing.csv](https://github.com/suthapalliuday/INFO5502-Summer2022/blob/main/datasets/lab_assignment_02_denton_housing.csv) contains statistics about housing in the city of Denton from 2008 to 2014. Write a program to implement the following questions.\n",
    "\n",
    "(1) (10 pts) Calculate the difference in the number of Occupied Housing Units from year to year and print it. The difference must be calculated for the consecutive years such as 2008-2009, 2009-2010 etc. Finally, print the values in the ascending order.\n",
    "\n",
    "(2) (10 pts) For all the years, calculate the percentage of housing units which are vacant an occupied. Print the results in the following format:\n",
    "\n",
    "Year Vacant Housing Units Occupied Housing Units\n",
    "\n",
    "    2008  30%   70%                          \n",
    "\t2009 ----- -----\n",
    "\t2010 ----- -----\n",
    "    2011 ----- -----\n",
    "\t2012 ----- -----\n",
    "    2013 ----- -----\n",
    "\t2014 ----- -----\n",
    "  \n",
    "  \n",
    "\n",
    "(3) (10 pts) Calculate and print the valued and years in which the highest number of housing units were vacant and occupied. Print the results in the following format:  \n",
    "\n",
    "                              Year\tValue\n",
    "\tVacant Housing Units\t  -----   -----\n",
    "\tOccupied Housing Units\t-----   -----\n",
    "\n",
    "(4) (10 pts) Calculate the harmonic mean of the total housing units and print it out. You can find the information about harmonic mean here: https://ncalculators.com/statistics/harmonic-mean-calculator.htm"
   ]
  },
  {
   "cell_type": "code",
   "execution_count": 20,
   "metadata": {
    "colab": {},
    "colab_type": "code",
    "id": "lqGYuHBhcsRH"
   },
   "outputs": [
    {
     "data": {
      "text/html": [
       "<div>\n",
       "<style scoped>\n",
       "    .dataframe tbody tr th:only-of-type {\n",
       "        vertical-align: middle;\n",
       "    }\n",
       "\n",
       "    .dataframe tbody tr th {\n",
       "        vertical-align: top;\n",
       "    }\n",
       "\n",
       "    .dataframe thead th {\n",
       "        text-align: right;\n",
       "    }\n",
       "</style>\n",
       "<table border=\"1\" class=\"dataframe\">\n",
       "  <thead>\n",
       "    <tr style=\"text-align: right;\">\n",
       "      <th></th>\n",
       "      <th>year</th>\n",
       "      <th>title_field</th>\n",
       "      <th>value</th>\n",
       "    </tr>\n",
       "  </thead>\n",
       "  <tbody>\n",
       "    <tr>\n",
       "      <th>0</th>\n",
       "      <td>2014</td>\n",
       "      <td>Total Housing Units</td>\n",
       "      <td>49109</td>\n",
       "    </tr>\n",
       "    <tr>\n",
       "      <th>1</th>\n",
       "      <td>2014</td>\n",
       "      <td>Vacant Housing Units</td>\n",
       "      <td>2814</td>\n",
       "    </tr>\n",
       "    <tr>\n",
       "      <th>2</th>\n",
       "      <td>2014</td>\n",
       "      <td>Occupied Housing Units</td>\n",
       "      <td>46295</td>\n",
       "    </tr>\n",
       "    <tr>\n",
       "      <th>3</th>\n",
       "      <td>2013</td>\n",
       "      <td>Total Housing Units</td>\n",
       "      <td>47888</td>\n",
       "    </tr>\n",
       "    <tr>\n",
       "      <th>4</th>\n",
       "      <td>2013</td>\n",
       "      <td>Vacant Housing Units</td>\n",
       "      <td>4215</td>\n",
       "    </tr>\n",
       "  </tbody>\n",
       "</table>\n",
       "</div>"
      ],
      "text/plain": [
       "   year             title_field  value\n",
       "0  2014     Total Housing Units  49109\n",
       "1  2014    Vacant Housing Units   2814\n",
       "2  2014  Occupied Housing Units  46295\n",
       "3  2013     Total Housing Units  47888\n",
       "4  2013    Vacant Housing Units   4215"
      ]
     },
     "execution_count": 20,
     "metadata": {},
     "output_type": "execute_result"
    }
   ],
   "source": [
    "# Your code here\n",
    "\n",
    "\"\"\"\n",
    "(1) (10 pts) Calculate the difference in the number of Occupied Housing Units from year to year and print it.\n",
    "The difference must be calculated for the consecutive years such as 2008-2009, 2009-2010 etc. \n",
    "Finally, print the values in the ascending order.\n",
    "\"\"\"\n",
    "import pandas as pd\n",
    "df = pd.read_csv(\"lab_assignment_02_denton_housing.csv\")\n",
    "df.head()"
   ]
  },
  {
   "cell_type": "code",
   "execution_count": 21,
   "metadata": {},
   "outputs": [
    {
     "data": {
      "text/plain": [
       "array(['Total Housing Units', 'Vacant Housing Units',\n",
       "       'Occupied Housing Units', 'Owner Occupied', 'Renter Occupied',\n",
       "       'Median Gross Rent'], dtype=object)"
      ]
     },
     "execution_count": 21,
     "metadata": {},
     "output_type": "execute_result"
    }
   ],
   "source": [
    "df[\"title_field\"].unique()"
   ]
  },
  {
   "cell_type": "code",
   "execution_count": 22,
   "metadata": {},
   "outputs": [
    {
     "data": {
      "text/plain": [
       "(7, 3)"
      ]
     },
     "execution_count": 22,
     "metadata": {},
     "output_type": "execute_result"
    }
   ],
   "source": [
    "occipied_housing_units = df[df[\"title_field\"]==\"Occupied Housing Units\"]\n",
    "occipied_housing_units.shape"
   ]
  },
  {
   "cell_type": "code",
   "execution_count": 24,
   "metadata": {},
   "outputs": [
    {
     "data": {
      "text/html": [
       "<div>\n",
       "<style scoped>\n",
       "    .dataframe tbody tr th:only-of-type {\n",
       "        vertical-align: middle;\n",
       "    }\n",
       "\n",
       "    .dataframe tbody tr th {\n",
       "        vertical-align: top;\n",
       "    }\n",
       "\n",
       "    .dataframe thead th {\n",
       "        text-align: right;\n",
       "    }\n",
       "</style>\n",
       "<table border=\"1\" class=\"dataframe\">\n",
       "  <thead>\n",
       "    <tr style=\"text-align: right;\">\n",
       "      <th></th>\n",
       "      <th>year</th>\n",
       "      <th>title_field</th>\n",
       "      <th>value</th>\n",
       "    </tr>\n",
       "  </thead>\n",
       "  <tbody>\n",
       "    <tr>\n",
       "      <th>2</th>\n",
       "      <td>2014</td>\n",
       "      <td>Occupied Housing Units</td>\n",
       "      <td>46295</td>\n",
       "    </tr>\n",
       "    <tr>\n",
       "      <th>5</th>\n",
       "      <td>2013</td>\n",
       "      <td>Occupied Housing Units</td>\n",
       "      <td>43673</td>\n",
       "    </tr>\n",
       "    <tr>\n",
       "      <th>8</th>\n",
       "      <td>2012</td>\n",
       "      <td>Occupied Housing Units</td>\n",
       "      <td>42108</td>\n",
       "    </tr>\n",
       "    <tr>\n",
       "      <th>11</th>\n",
       "      <td>2011</td>\n",
       "      <td>Occupied Housing Units</td>\n",
       "      <td>40704</td>\n",
       "    </tr>\n",
       "    <tr>\n",
       "      <th>14</th>\n",
       "      <td>2010</td>\n",
       "      <td>Occupied Housing Units</td>\n",
       "      <td>41007</td>\n",
       "    </tr>\n",
       "    <tr>\n",
       "      <th>17</th>\n",
       "      <td>2009</td>\n",
       "      <td>Occupied Housing Units</td>\n",
       "      <td>35916</td>\n",
       "    </tr>\n",
       "    <tr>\n",
       "      <th>20</th>\n",
       "      <td>2008</td>\n",
       "      <td>Occupied Housing Units</td>\n",
       "      <td>36711</td>\n",
       "    </tr>\n",
       "  </tbody>\n",
       "</table>\n",
       "</div>"
      ],
      "text/plain": [
       "    year             title_field  value\n",
       "2   2014  Occupied Housing Units  46295\n",
       "5   2013  Occupied Housing Units  43673\n",
       "8   2012  Occupied Housing Units  42108\n",
       "11  2011  Occupied Housing Units  40704\n",
       "14  2010  Occupied Housing Units  41007\n",
       "17  2009  Occupied Housing Units  35916\n",
       "20  2008  Occupied Housing Units  36711"
      ]
     },
     "execution_count": 24,
     "metadata": {},
     "output_type": "execute_result"
    }
   ],
   "source": [
    "occipied_housing_units"
   ]
  },
  {
   "cell_type": "code",
   "execution_count": 26,
   "metadata": {},
   "outputs": [
    {
     "data": {
      "text/html": [
       "<div>\n",
       "<style scoped>\n",
       "    .dataframe tbody tr th:only-of-type {\n",
       "        vertical-align: middle;\n",
       "    }\n",
       "\n",
       "    .dataframe tbody tr th {\n",
       "        vertical-align: top;\n",
       "    }\n",
       "\n",
       "    .dataframe thead th {\n",
       "        text-align: right;\n",
       "    }\n",
       "</style>\n",
       "<table border=\"1\" class=\"dataframe\">\n",
       "  <thead>\n",
       "    <tr style=\"text-align: right;\">\n",
       "      <th></th>\n",
       "      <th>year</th>\n",
       "      <th>title_field</th>\n",
       "      <th>value</th>\n",
       "    </tr>\n",
       "  </thead>\n",
       "  <tbody>\n",
       "    <tr>\n",
       "      <th>20</th>\n",
       "      <td>2008</td>\n",
       "      <td>Occupied Housing Units</td>\n",
       "      <td>36711</td>\n",
       "    </tr>\n",
       "    <tr>\n",
       "      <th>17</th>\n",
       "      <td>2009</td>\n",
       "      <td>Occupied Housing Units</td>\n",
       "      <td>35916</td>\n",
       "    </tr>\n",
       "    <tr>\n",
       "      <th>14</th>\n",
       "      <td>2010</td>\n",
       "      <td>Occupied Housing Units</td>\n",
       "      <td>41007</td>\n",
       "    </tr>\n",
       "    <tr>\n",
       "      <th>11</th>\n",
       "      <td>2011</td>\n",
       "      <td>Occupied Housing Units</td>\n",
       "      <td>40704</td>\n",
       "    </tr>\n",
       "    <tr>\n",
       "      <th>8</th>\n",
       "      <td>2012</td>\n",
       "      <td>Occupied Housing Units</td>\n",
       "      <td>42108</td>\n",
       "    </tr>\n",
       "    <tr>\n",
       "      <th>5</th>\n",
       "      <td>2013</td>\n",
       "      <td>Occupied Housing Units</td>\n",
       "      <td>43673</td>\n",
       "    </tr>\n",
       "    <tr>\n",
       "      <th>2</th>\n",
       "      <td>2014</td>\n",
       "      <td>Occupied Housing Units</td>\n",
       "      <td>46295</td>\n",
       "    </tr>\n",
       "  </tbody>\n",
       "</table>\n",
       "</div>"
      ],
      "text/plain": [
       "    year             title_field  value\n",
       "20  2008  Occupied Housing Units  36711\n",
       "17  2009  Occupied Housing Units  35916\n",
       "14  2010  Occupied Housing Units  41007\n",
       "11  2011  Occupied Housing Units  40704\n",
       "8   2012  Occupied Housing Units  42108\n",
       "5   2013  Occupied Housing Units  43673\n",
       "2   2014  Occupied Housing Units  46295"
      ]
     },
     "execution_count": 26,
     "metadata": {},
     "output_type": "execute_result"
    }
   ],
   "source": [
    "occipied_housing_units = occipied_housing_units.sort_values(\"year\")\n",
    "occipied_housing_units"
   ]
  },
  {
   "cell_type": "code",
   "execution_count": 42,
   "metadata": {},
   "outputs": [
    {
     "name": "stdout",
     "output_type": "stream",
     "text": [
      "7\n"
     ]
    },
    {
     "data": {
      "text/plain": [
       "{'2008 - 2009': -795,\n",
       " '2009 - 2010': 5091,\n",
       " '2010 - 2011': -303,\n",
       " '2011 - 2012': 1404,\n",
       " '2012 - 2013': 1565,\n",
       " '2013 - 2014': 2622}"
      ]
     },
     "execution_count": 42,
     "metadata": {},
     "output_type": "execute_result"
    }
   ],
   "source": [
    "years = list(occipied_housing_units[\"year\"])\n",
    "values = list(occipied_housing_units[\"value\"])\n",
    "temp = {}\n",
    "print(len(years))\n",
    "for i in range(0,len(years)-1):\n",
    "    keys = f\"{years[i]} - {years[i+1]}\"\n",
    "    temp [keys] = values[i+1]-values[i]\n",
    "temp"
   ]
  },
  {
   "cell_type": "code",
   "execution_count": 44,
   "metadata": {},
   "outputs": [
    {
     "name": "stdout",
     "output_type": "stream",
     "text": [
      "2008 - 2009 -795\n",
      "2010 - 2011 -303\n",
      "2011 - 2012 1404\n",
      "2012 - 2013 1565\n",
      "2013 - 2014 2622\n",
      "2009 - 2010 5091\n"
     ]
    }
   ],
   "source": [
    "for w in sorted(temp, key=temp.get, reverse=False):\n",
    "    print(w, temp[w])"
   ]
  },
  {
   "cell_type": "code",
   "execution_count": 45,
   "metadata": {},
   "outputs": [],
   "source": [
    "\"\"\"\n",
    "(2) (10 pts) For all the years, calculate the percentage of housing units which are vacant an occupied. Print the results in the following format:\n",
    "\n",
    "Year Vacant Housing Units Occupied Housing Units\n",
    "\n",
    "2008  30%   70%                          \n",
    "2009 ----- -----\n",
    "2010 ----- -----\n",
    "2011 ----- -----\n",
    "2012 ----- -----\n",
    "2013 ----- -----\n",
    "2014 ----- -----\n",
    "\"\"\"\n",
    "total_housing_units = df[df[\"title_field\"]==\"Total Housing Units\"]\n",
    "vacant_housing_units = df[df[\"title_field\"]==\"Vacant Housing Units\"]\n",
    "occupied_housing_units = df[df[\"title_field\"]==\"Occupied Housing Units\"]"
   ]
  },
  {
   "cell_type": "code",
   "execution_count": 46,
   "metadata": {},
   "outputs": [
    {
     "data": {
      "text/plain": [
       "((7, 3), (7, 3), (7, 3))"
      ]
     },
     "execution_count": 46,
     "metadata": {},
     "output_type": "execute_result"
    }
   ],
   "source": [
    "total_housing_units.shape, vacant_housing_units.shape, occupied_housing_units.shape"
   ]
  },
  {
   "cell_type": "code",
   "execution_count": 59,
   "metadata": {},
   "outputs": [
    {
     "name": "stdout",
     "output_type": "stream",
     "text": [
      "2008  10%  89%\n",
      "2009  9%  90%\n",
      "2010  8%  91%\n",
      "2011  9%  90%\n",
      "2012  6%  93%\n",
      "2013  8%  91%\n",
      "2014  5%  94%\n"
     ]
    }
   ],
   "source": [
    "fianl_data = []\n",
    "for i in range(len(years)):\n",
    "    temp = []\n",
    "    vacant = vacant_housing_units[vacant_housing_units[\"year\"] == years[i]]\n",
    "    total = total_housing_units[total_housing_units[\"year\"] == years[i]]\n",
    "    occupied = occupied_housing_units[occupied_housing_units[\"year\"] == years[i]]\n",
    "#     print(years, int(total[\"value\"]), int(vacant[\"value\"]), int(occupied[\"value\"]))\n",
    "    vacant_per = int((int(vacant[\"value\"])/int(total[\"value\"]))*100)\n",
    "    occupied_per = int((int(occupied[\"value\"])/int(total[\"value\"]))*100)\n",
    "    print(\"{}  {}%  {}%\".format(years[i], vacant_per, occupied_per))\n",
    "#     temp.append(years[i])\n",
    "#     temp.append()"
   ]
  },
  {
   "cell_type": "code",
   "execution_count": 66,
   "metadata": {},
   "outputs": [
    {
     "name": "stdout",
     "output_type": "stream",
     "text": [
      "                       year  value\n",
      "Vacant Housing Units  19    2008\n",
      "Name: year, dtype: int64  4483\n",
      "Occupied Housing Units  2    2014\n",
      "Name: year, dtype: int64  46295\n"
     ]
    }
   ],
   "source": [
    "\"\"\"\n",
    "(3) (10 pts) Calculate and print the valued and years in which the highest number of housing units were vacant and occupied. Print the results in the following format:\n",
    "\n",
    "                          Year    Value\n",
    "Vacant Housing Units      -----   -----\n",
    "Occupied Housing Units    -----   -----\n",
    "\"\"\"\n",
    "\n",
    "value = max(list(vacant_housing_units[\"value\"]))\n",
    "year = vacant_housing_units[vacant_housing_units[\"value\"] == value][\"year\"]\n",
    "print(\"                       year  value\".format( year, value))\n",
    "print(\"Vacant Housing Units  {}  {}\".format( year, value))\n",
    "value = max(list(occupied_housing_units[\"value\"]))\n",
    "year = occupied_housing_units[occupied_housing_units[\"value\"] == value][\"year\"]\n",
    "print(\"Occupied Housing Units  {}  {}\".format( year, value))"
   ]
  },
  {
   "cell_type": "code",
   "execution_count": 67,
   "metadata": {},
   "outputs": [
    {
     "name": "stdout",
     "output_type": "stream",
     "text": [
      "44398.28543969185\n"
     ]
    }
   ],
   "source": [
    "\"\"\"\n",
    "(4) (10 pts) Calculate the harmonic mean of the total housing units and print it out.\n",
    "You can find the information about harmonic mean here: https://ncalculators.com/statistics/harmonic-mean-calculator.htm\n",
    "\"\"\"\n",
    "\n",
    "from statistics import harmonic_mean\n",
    "print(harmonic_mean(list(total_housing_units[\"value\"])))"
   ]
  },
  {
   "cell_type": "code",
   "execution_count": 68,
   "metadata": {},
   "outputs": [
    {
     "data": {
      "text/plain": [
       "[49109, 47888, 45121, 44917, 44642, 39499, 41194]"
      ]
     },
     "execution_count": 68,
     "metadata": {},
     "output_type": "execute_result"
    }
   ],
   "source": [
    "list(total_housing_units[\"value\"])"
   ]
  },
  {
   "cell_type": "code",
   "execution_count": null,
   "metadata": {},
   "outputs": [],
   "source": []
  }
 ],
 "metadata": {
  "colab": {
   "authorship_tag": "ABX9TyOAjsNCkNulTpzgRQbHdy3f",
   "collapsed_sections": [],
   "include_colab_link": true,
   "name": "INFO5731_Assignment_One.ipynb",
   "provenance": []
  },
  "kernelspec": {
   "display_name": "Python 3 (ipykernel)",
   "language": "python",
   "name": "python3"
  },
  "language_info": {
   "codemirror_mode": {
    "name": "ipython",
    "version": 3
   },
   "file_extension": ".py",
   "mimetype": "text/x-python",
   "name": "python",
   "nbconvert_exporter": "python",
   "pygments_lexer": "ipython3",
   "version": "3.9.7"
  }
 },
 "nbformat": 4,
 "nbformat_minor": 1
}
